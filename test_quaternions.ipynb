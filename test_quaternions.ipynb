{
 "cells": [
  {
   "cell_type": "code",
   "execution_count": 31,
   "metadata": {},
   "outputs": [],
   "source": [
    "from transforms3d.euler import quat2euler\n",
    "import math as m"
   ]
  },
  {
   "cell_type": "code",
   "execution_count": 32,
   "metadata": {},
   "outputs": [],
   "source": [
    "def normalize_angle(angle):\n",
    "    \"\"\" Normalize the angle to the range [-pi, pi]. \"\"\"\n",
    "    return m.atan2(m.sin(angle), m.cos(angle))"
   ]
  },
  {
   "cell_type": "code",
   "execution_count": 33,
   "metadata": {},
   "outputs": [
    {
     "name": "stdout",
     "output_type": "stream",
     "text": [
      "(roll,pitch,yaw)=(1.2841322882542774, -0.004105963900254393, -0.12500297536901528)\n"
     ]
    }
   ],
   "source": [
    "test = [-0.7993715405464172, -0.5975781679153442, 0.03904560208320618, 0.04879523441195488]\n",
    "\n",
    "\n",
    "[-0.8063313961029053, 0.011068995110690594, 0.591343104839325, 0.004523830488324165]\n",
    "roll, pitch, yaw = quat2euler(test) #(-0.005448548314084914, -0.6230168375148765, -0.01056768867977631) AKA neg pitch when tilting forward to go front to +X\n",
    "print(f\"(roll,pitch,yaw)={roll,pitch,yaw}\")\n"
   ]
  },
  {
   "cell_type": "markdown",
   "metadata": {},
   "source": [
    "# test on data"
   ]
  },
  {
   "cell_type": "markdown",
   "metadata": {},
   "source": [
    "### Negative Pitch Tilt Forward"
   ]
  },
  {
   "cell_type": "code",
   "execution_count": 34,
   "metadata": {},
   "outputs": [
    {
     "name": "stdout",
     "output_type": "stream",
     "text": [
      "(roll,pitch,yaw)=(-0.005448548314084914, -0.6230168375148765, -0.010567688679776425)\n"
     ]
    }
   ],
   "source": [
    "sim_negpitch_goforward = [0.9518511295318604, -0.004212579224258661, -0.3064756989479065, -0.005864466540515423]\n",
    "roll, pitch, yaw = quat2euler(sim_negpitch_goforward) #(-0.005448548314084914, -0.6230168375148765, -0.01056768867977631) AKA neg pitch when tilting forward to go front to +X\n",
    "print(f\"(roll,pitch,yaw)={roll,pitch,yaw}\")"
   ]
  },
  {
   "cell_type": "code",
   "execution_count": 35,
   "metadata": {},
   "outputs": [
    {
     "name": "stdout",
     "output_type": "stream",
     "text": [
      "(roll,pitch,yaw)=(-0.0824016804329776, -1.2488296737922981, 0.20575859351363496)\n"
     ]
    }
   ],
   "source": [
    "hardware_negpitch_goforward = [0.8088037967681885, 0.026748254895210266, -0.5844698548316956, 0.05929585173726082]\n",
    "roll, pitch, yaw = quat2euler(hardware_negpitch_goforward) #(-0.005448548314084914, -0.6230168375148765, -0.01056768867977631) AKA neg pitch when tilting forward to go front to +X\n",
    "print(f\"(roll,pitch,yaw)={roll,pitch,yaw}\")"
   ]
  },
  {
   "cell_type": "markdown",
   "metadata": {},
   "source": [
    "### Positive Roll Tilt CW to +Y"
   ]
  },
  {
   "cell_type": "code",
   "execution_count": 36,
   "metadata": {},
   "outputs": [
    {
     "name": "stdout",
     "output_type": "stream",
     "text": [
      "(roll,pitch,yaw)=(0.5012406346841017, -0.04176093567396901, -0.019268071582676478)\n"
     ]
    }
   ],
   "source": [
    "sim_posroll_goright = [0.9685525298118591, 0.24774451553821564, -0.022614458575844765, -0.004153035115450621] #(0.5012406346841017, -0.04176093567396901, -0.019268071582676516) AKA pos roll when tilting CW from the back to go right to +Y\n",
    "roll, pitch, yaw = quat2euler(sim_posroll_goright) #(-0.005448548314084914, -0.6230168375148765, -0.01056768867977631) AKA neg pitch when tilting forward to go front to +X\n",
    "print(f\"(roll,pitch,yaw)={roll,pitch,yaw}\")"
   ]
  },
  {
   "cell_type": "code",
   "execution_count": 37,
   "metadata": {},
   "outputs": [
    {
     "name": "stdout",
     "output_type": "stream",
     "text": [
      "(roll,pitch,yaw)=(1.2647838377388503, -0.010353311601660782, -0.013600569530322343)\n"
     ]
    }
   ],
   "source": [
    "hardware_posroll_goright = [0.8066073656082153, 0.5910258293151855, -0.008194857276976109, -0.0024253912270069122]\n",
    "roll, pitch, yaw = quat2euler(hardware_posroll_goright) #(-0.005448548314084914, -0.6230168375148765, -0.01056768867977631) AKA neg pitch when tilting forward to go front to +X\n",
    "print(f\"(roll,pitch,yaw)={roll,pitch,yaw}\")"
   ]
  },
  {
   "cell_type": "markdown",
   "metadata": {},
   "source": [
    "### Negative Yaw Rotate CCW About Z\n",
    "REMEMBER: POSITIVE Z IS POINTING DOWN SO FROM THE TOP IT LOOKS CW BUT ITS ACTUALLY CCW"
   ]
  },
  {
   "cell_type": "code",
   "execution_count": 38,
   "metadata": {},
   "outputs": [
    {
     "name": "stdout",
     "output_type": "stream",
     "text": [
      "(roll,pitch,yaw)=(0.013906685494729855, 0.0026444664358176084, 1.5431945698611313)\n"
     ]
    }
   ],
   "source": [
    "hardware_posyaw_goCCW = [0.7167863249778748, 0.0040621510706841946, 0.0057961419224739075, 0.6972570419311523]\n",
    "roll, pitch, yaw = quat2euler(hardware_posyaw_goCCW) #(-0.005448548314084914, -0.6230168375148765, -0.01056768867977631) AKA neg pitch when tilting forward to go front to +X\n",
    "print(f\"(roll,pitch,yaw)={roll,pitch,yaw}\")"
   ]
  },
  {
   "cell_type": "markdown",
   "metadata": {},
   "source": [
    "## New Data for Confirmation"
   ]
  },
  {
   "cell_type": "code",
   "execution_count": 39,
   "metadata": {},
   "outputs": [
    {
     "name": "stdout",
     "output_type": "stream",
     "text": [
      "(roll,pitch,yaw)=(1.2702682947479076, -0.01450125261433671, -0.10453808718658118)\n"
     ]
    }
   ],
   "source": [
    "q = [0.8040963411331177, 0.5921547412872314, -0.03682420775294304, -0.03776012733578682]\n",
    "roll, pitch, yaw = quat2euler(q)\n",
    "print(f\"(roll,pitch,yaw)={roll,pitch,yaw}\")\n"
   ]
  },
  {
   "cell_type": "code",
   "execution_count": 40,
   "metadata": {},
   "outputs": [],
   "source": [
    "import math\n",
    "def euler_from_quaternion(w, x, y, z):\n",
    "        \"\"\"\n",
    "        Convert a quaternion into euler angles (roll, pitch, yaw)\n",
    "        roll is rotation around x in radians (counterclockwise)\n",
    "        pitch is rotation around y in radians (counterclockwise)\n",
    "        yaw is rotation around z in radians (counterclockwise)\n",
    "        \"\"\"\n",
    "        t0 = +2.0 * (w * x + y * z)\n",
    "        t1 = +1.0 - 2.0 * (x * x + y * y)\n",
    "        roll_x = math.atan2(t0, t1)\n",
    "     \n",
    "        t2 = +2.0 * (w * y - z * x)\n",
    "        t2 = +1.0 if t2 > +1.0 else t2\n",
    "        t2 = -1.0 if t2 < -1.0 else t2\n",
    "        pitch_y = math.asin(t2)\n",
    "     \n",
    "        t3 = +2.0 * (w * z + x * y)\n",
    "        t4 = +1.0 - 2.0 * (y * y + z * z)\n",
    "        yaw_z = math.atan2(t3, t4)\n",
    "     \n",
    "        return roll_x, pitch_y, yaw_z # in radians"
   ]
  },
  {
   "cell_type": "code",
   "execution_count": 41,
   "metadata": {},
   "outputs": [],
   "source": [
    "q = [0.8040963411331177, 0.5921547412872314, -0.03682420775294304, -0.03776012733578682]"
   ]
  },
  {
   "cell_type": "code",
   "execution_count": 42,
   "metadata": {},
   "outputs": [
    {
     "data": {
      "text/plain": [
       "(1.270268307114649, -0.014501252802078183, -0.1045380885375744)"
      ]
     },
     "execution_count": 42,
     "metadata": {},
     "output_type": "execute_result"
    }
   ],
   "source": [
    "euler_from_quaternion(*q)"
   ]
  },
  {
   "cell_type": "code",
   "execution_count": null,
   "metadata": {},
   "outputs": [],
   "source": []
  },
  {
   "cell_type": "code",
   "execution_count": 43,
   "metadata": {},
   "outputs": [],
   "source": [
    "from scipy.spatial.transform import Rotation as R\n",
    "import numpy as np\n"
   ]
  },
  {
   "cell_type": "code",
   "execution_count": 44,
   "metadata": {},
   "outputs": [
    {
     "name": "stdout",
     "output_type": "stream",
     "text": [
      "quat_xyzw = [0.0, 0.0, 0.0, 1.0]\n",
      "[[1. 0. 0.]\n",
      " [0. 1. 0.]\n",
      " [0. 0. 1.]]\n"
     ]
    }
   ],
   "source": [
    "\n",
    "# Example quaternion (w, x, y, z)\n",
    "quat  = [1.0, 0., 0., 0.]\n",
    "# Convert to (x, y, z, w) format\n",
    "quat_xyzw = quat[1:] + [quat[0]]\n",
    "\n",
    "print(f\"{quat_xyzw = }\")\n",
    "\n",
    "# Convert to rotation matrix\n",
    "rotation_matrix = R.from_quat(quat_xyzw).as_matrix()\n",
    "\n",
    "print(rotation_matrix)\n"
   ]
  },
  {
   "cell_type": "code",
   "execution_count": 45,
   "metadata": {},
   "outputs": [],
   "source": [
    "e1 = np.array([[1.],\n",
    "       [0.],\n",
    "       [0.]])\n",
    "b2 = np.array([[ 0.        ],\n",
    "       [-0.99999702],\n",
    "       [-0.00244167]])\n",
    "a3 = np.array([[ 0],\n",
    "       [ 0],\n",
    "       [-1]])\n"
   ]
  },
  {
   "cell_type": "code",
   "execution_count": 46,
   "metadata": {},
   "outputs": [
    {
     "data": {
      "text/plain": [
       "(0.03324, -0.0324200966118879, -0.09202084082270565)"
      ]
     },
     "execution_count": 46,
     "metadata": {},
     "output_type": "execute_result"
    }
   ],
   "source": [
    "# Define matrices A and B\n",
    "A = np.hstack((e1, b2, a3))\n",
    "B = rotation_matrix\n",
    "\n",
    "# Define known values in x and y\n",
    "x_known = np.array([0.0921])  # x3 = 5\n",
    "y_known = np.array([0.03324, .03242])  # y1 = 4, y2 = 2\n",
    "\n",
    "# Split A into parts affecting unknowns (A1) and knowns (A2)\n",
    "A1 = A[:, :2]  # First two columns (unknown x1, x2)\n",
    "A2 = A[:, 2:]  # Last column (known x3)\n",
    "\n",
    "# Split B into parts affecting unknowns (B1) and knowns (B2)\n",
    "B1 = B[:, 2:]  # Last column (unknown y3)\n",
    "B2 = B[:, :2]  # First two columns (known y1, y2)\n",
    "\n",
    "# Compute right-hand side\n",
    "rhs = (B2 @ y_known) - (A2 @ x_known)  # Move known values to RHS\n",
    "\n",
    "# Solve system for [x1, x2, y3]\n",
    "M = np.hstack((A1, -B1))  # Construct coefficient matrix\n",
    "unknowns = np.linalg.solve(M, rhs)  # Solve for unknowns\n",
    "\n",
    "# Extract solutions\n",
    "x1, x2, y3 = unknowns\n",
    "\n",
    "# Display results\n",
    "x1, x2, y3\n"
   ]
  },
  {
   "cell_type": "code",
   "execution_count": 47,
   "metadata": {},
   "outputs": [
    {
     "data": {
      "text/plain": [
       "(1,)"
      ]
     },
     "execution_count": 47,
     "metadata": {},
     "output_type": "execute_result"
    }
   ],
   "source": [
    "x_known.shape"
   ]
  },
  {
   "cell_type": "code",
   "execution_count": 48,
   "metadata": {},
   "outputs": [
    {
     "data": {
      "text/plain": [
       "(2,)"
      ]
     },
     "execution_count": 48,
     "metadata": {},
     "output_type": "execute_result"
    }
   ],
   "source": [
    "y_known.shape"
   ]
  },
  {
   "cell_type": "code",
   "execution_count": 49,
   "metadata": {},
   "outputs": [
    {
     "name": "stdout",
     "output_type": "stream",
     "text": [
      "[[ 0.35355339 -0.5732233   0.73919892]\n",
      " [ 0.61237244  0.73919892  0.28033009]\n",
      " [-0.70710678  0.35355339  0.61237244]]\n"
     ]
    }
   ],
   "source": [
    "def euler_to_rotation_matrix(roll, pitch, yaw):\n",
    "    \"\"\"\n",
    "    Converts Euler angles (roll, pitch, yaw) to a rotation matrix.\n",
    "    \n",
    "    Parameters:\n",
    "        roll (float): Rotation around x-axis (in radians)\n",
    "        pitch (float): Rotation around y-axis (in radians)\n",
    "        yaw (float): Rotation around z-axis (in radians)\n",
    "\n",
    "    Returns:\n",
    "        numpy.ndarray: 3x3 rotation matrix\n",
    "    \"\"\"\n",
    "    # Compute cosines and sines\n",
    "    c_roll, s_roll = np.cos(roll), np.sin(roll)\n",
    "    c_pitch, s_pitch = np.cos(pitch), np.sin(pitch)\n",
    "    c_yaw, s_yaw = np.cos(yaw), np.sin(yaw)\n",
    "\n",
    "    # Rotation matrices\n",
    "    R_x = np.array([[1, 0, 0],\n",
    "                    [0, c_roll, -s_roll],\n",
    "                    [0, s_roll, c_roll]])\n",
    "\n",
    "    R_y = np.array([[c_pitch, 0, s_pitch],\n",
    "                    [0, 1, 0],\n",
    "                    [-s_pitch, 0, c_pitch]])\n",
    "\n",
    "    R_z = np.array([[c_yaw, -s_yaw, 0],\n",
    "                    [s_yaw, c_yaw, 0],\n",
    "                    [0, 0, 1]])\n",
    "\n",
    "    # Final rotation matrix\n",
    "    R = R_z @ R_y @ R_x\n",
    "    return R\n",
    "\n",
    "# Example usage:\n",
    "roll, pitch, yaw = np.radians([30, 45, 60])  # Convert degrees to radians\n",
    "rotation_matrix = euler_to_rotation_matrix(roll, pitch, yaw)\n",
    "print(rotation_matrix)\n"
   ]
  },
  {
   "cell_type": "code",
   "execution_count": 50,
   "metadata": {},
   "outputs": [
    {
     "name": "stdout",
     "output_type": "stream",
     "text": [
      "quats = array([-0.00388789,  0.00210594, -0.00943172,  0.99994574])\n"
     ]
    }
   ],
   "source": [
    "eulers = (-0.007815223444964419, 0.004138315266847287, -0.018880082226702757)\n",
    "quats = R.from_euler('xyz', eulers).as_quat()\n",
    "print(f\"{quats = }\")"
   ]
  },
  {
   "cell_type": "code",
   "execution_count": null,
   "metadata": {},
   "outputs": [],
   "source": []
  }
 ],
 "metadata": {
  "kernelspec": {
   "display_name": "wardiNN",
   "language": "python",
   "name": "python3"
  },
  "language_info": {
   "codemirror_mode": {
    "name": "ipython",
    "version": 3
   },
   "file_extension": ".py",
   "mimetype": "text/x-python",
   "name": "python",
   "nbconvert_exporter": "python",
   "pygments_lexer": "ipython3",
   "version": "3.8.10"
  }
 },
 "nbformat": 4,
 "nbformat_minor": 2
}
